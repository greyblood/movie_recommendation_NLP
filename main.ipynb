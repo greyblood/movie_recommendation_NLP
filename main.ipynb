{
 "cells": [
  {
   "cell_type": "code",
   "execution_count": 1,
   "id": "d5d5e38d-f61c-4bc7-8332-a4fd145916f6",
   "metadata": {},
   "outputs": [],
   "source": [
    "import pandas as pd\n",
    "from sklearn.feature_extraction.text import TfidfVectorizer\n",
    "from sklearn.metrics.pairwise import cosine_similarity"
   ]
  },
  {
   "cell_type": "code",
   "execution_count": 17,
   "id": "76eff56a-eb9e-4f8d-9e52-7ab53f5e7fcb",
   "metadata": {},
   "outputs": [],
   "source": [
    "movies = pd.read_csv('ml-latest-small/movies.csv').assign(combined=lambda df: df['title'].str.lower() + ' ' + df['genres'].str.lower())"
   ]
  },
  {
   "cell_type": "code",
   "execution_count": 18,
   "id": "635c5cae-71b8-4ad9-a17a-2b7ed4c617e3",
   "metadata": {},
   "outputs": [],
   "source": [
    "tfidf = TfidfVectorizer(stop_words='english')\n",
    "tfidf_matrix = tfidf.fit_transform(movies['combined'])\n",
    "cosine_sim = cosine_similarity(tfidf_matrix, tfidf_matrix)"
   ]
  },
  {
   "cell_type": "code",
   "execution_count": 22,
   "id": "ad4b8c4a-53dc-47c2-a4e0-75dc8c4bcc62",
   "metadata": {},
   "outputs": [],
   "source": [
    "def recommend_movies(title, cosine_sim, movies, n=5):\n",
    "    idx = movies[movies['title'].str.lower() == title.lower()].index[0]\n",
    "    sim_scores = list(enumerate(cosine_sim[idx]))\n",
    "    sim_scores = sorted(sim_scores, key=lambda x: x[1], reverse=True)\n",
    "    movie_indices = [i[0] for i in sim_scores[1:n+1]]\n",
    "    recommended_movies = movies.iloc[movie_indices].copy()\n",
    "    recommended_movies['sim_score'] = [sim_scores[i + 1][1] for i in range(n)]\n",
    "    \n",
    "    return recommended_movies"
   ]
  },
  {
   "cell_type": "code",
   "execution_count": 28,
   "id": "6c72e0d8-c8cc-4f37-8a22-dfbde41c5f47",
   "metadata": {},
   "outputs": [
    {
     "name": "stdout",
     "output_type": "stream",
     "text": [
      "                                      title  sim_score  \\\n",
      "2355                     Toy Story 2 (1999)   0.880446   \n",
      "7355                     Toy Story 3 (2010)   0.821047   \n",
      "3595                        Toy, The (1982)   0.538018   \n",
      "2539  We're Back! A Dinosaur's Story (1993)   0.456423   \n",
      "26                      Now and Then (1995)   0.421651   \n",
      "\n",
      "                                                genres  \n",
      "2355       Adventure|Animation|Children|Comedy|Fantasy  \n",
      "7355  Adventure|Animation|Children|Comedy|Fantasy|IMAX  \n",
      "3595                                            Comedy  \n",
      "2539              Adventure|Animation|Children|Fantasy  \n",
      "26                                      Children|Drama  \n"
     ]
    }
   ],
   "source": [
    "recommendations = recommend_movies('Toy Story (1995)', cosine_sim, movies)\n",
    "print(recommendations[['title','sim_score','genres']])\n",
    "# print(recommend_movies('Jumanji (1995)', cosine_sim, movies)[['title']])"
   ]
  },
  {
   "cell_type": "code",
   "execution_count": null,
   "id": "2f5d1fda-e0a4-4d0c-bad5-eef1bd706060",
   "metadata": {},
   "outputs": [],
   "source": []
  }
 ],
 "metadata": {
  "kernelspec": {
   "display_name": "Python 3 (ipykernel)",
   "language": "python",
   "name": "python3"
  },
  "language_info": {
   "codemirror_mode": {
    "name": "ipython",
    "version": 3
   },
   "file_extension": ".py",
   "mimetype": "text/x-python",
   "name": "python",
   "nbconvert_exporter": "python",
   "pygments_lexer": "ipython3",
   "version": "3.10.1"
  }
 },
 "nbformat": 4,
 "nbformat_minor": 5
}
